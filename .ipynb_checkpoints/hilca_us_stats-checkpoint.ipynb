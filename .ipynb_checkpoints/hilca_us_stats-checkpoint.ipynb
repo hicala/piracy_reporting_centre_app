{
 "cells": [
  {
   "cell_type": "code",
   "execution_count": 86,
   "metadata": {},
   "outputs": [],
   "source": [
    "# If you don't have Beautiful Soup, install with 'conda install beautifulsoup' in terminal\n",
    "# Python requires us to explicitly load the libraries that we want to use:\n",
    "\n",
    "import math\n",
    "from math import pi\n",
    "import matplotlib as plt\n",
    "import requests\n",
    "import bs4\n",
    "import re\n"
   ]
  },
  {
   "cell_type": "code",
   "execution_count": 87,
   "metadata": {},
   "outputs": [],
   "source": [
    "# Load a webpage into python so that we can parse it and manipulate it.\n",
    "\n",
    "URL = 'https://www.espn.com/nba/team/roster/_/name/atl/atlanta-hawks'"
   ]
  },
  {
   "cell_type": "code",
   "execution_count": 88,
   "metadata": {},
   "outputs": [],
   "source": [
    "# Control of Connection\n",
    "# We just turned the website code into a Python object. \n",
    "response = requests.get(URL)"
   ]
  },
  {
   "cell_type": "code",
   "execution_count": 89,
   "metadata": {},
   "outputs": [],
   "source": [
    "# Print the output\n",
    "# print(response.text) "
   ]
  },
  {
   "cell_type": "code",
   "execution_count": 90,
   "metadata": {},
   "outputs": [],
   "source": [
    "soup = bs4.BeautifulSoup(response.text, \"html.parser\")"
   ]
  },
  {
   "cell_type": "code",
   "execution_count": 91,
   "metadata": {},
   "outputs": [],
   "source": [
    "# find all the tags with class city or number\n",
    "data = soup.findAll(attrs={'class':['inline']})\n"
   ]
  },
  {
   "cell_type": "code",
   "execution_count": 92,
   "metadata": {},
   "outputs": [
    {
     "name": "stdout",
     "output_type": "stream",
     "text": [
      "[<div class=\"inline Table__TD--headshot\" style=\"min-width:40px\"><a class=\"AnchorLink\" href=\"https://www.espn.com/nba/player/_/id/3062667/deandre-bembry\" tabindex=\"0\"><div class=\"headshot inline-block relative TableHeadshot roster-headshot headshot--sm athlete silo\"><figure class=\"Image aspect-ratio--parent\"><div class=\"RatioFrame aspect-ratio--1x1\"></div><div class=\"Image__Wrapper aspect-ratio--child\"><img alt=\"https://a.espncdn.com/i/headshots/nba/players/full/3062667.png\" class=\"\" data-mptype=\"image\" src=\"data:image/gif;base64,R0lGODlhAQABAIAAAAAAAP///yH5BAEAAAAALAAAAAABAAEAAAIBRAA7\" title=\"DeAndre' Bembry\"/></div></figure></div></a></div>, <div class=\"inline\" style=\"min-width:140px\"><a class=\"AnchorLink\" href=\"https://www.espn.com/nba/player/_/id/3062667/deandre-bembry\" tabindex=\"0\">DeAndre' Bembry</a><span class=\"pl2 n10\">95</span></div>, <div class=\"inline\" style=\"min-width:40px\">SG</div>, <div class=\"inline\" style=\"min-width:40px\">26</div>, <div class=\"inline\" style=\"min-width:50px\">6' 5\"</div>, <div class=\"inline\" style=\"min-width:70px\">210 lbs</div>, <div class=\"inline\">Saint Joseph's</div>, <div class=\"inline\">$2,603,982</div>, <div class=\"inline Table__TD--headshot\" style=\"min-width:40px\"><a class=\"AnchorLink\" href=\"https://www.espn.com/nba/player/_/id/4066508/charlie-brown-jr\" tabindex=\"0\"><div class=\"headshot inline-block relative TableHeadshot roster-headshot headshot--sm athlete silo\"><figure class=\"Image aspect-ratio--parent\"><div class=\"RatioFrame aspect-ratio--1x1\"></div><div class=\"Image__Wrapper aspect-ratio--child\"><img alt=\"https://a.espncdn.com/i/headshots/nba/players/full/4066508.png\" class=\"\" data-mptype=\"image\" src=\"data:image/gif;base64,R0lGODlhAQABAIAAAAAAAP///yH5BAEAAAAALAAAAAABAAEAAAIBRAA7\" title=\"Charlie Brown Jr.\"/></div></figure></div></a></div>, <div class=\"inline\" style=\"min-width:140px\"><a class=\"AnchorLink\" href=\"https://www.espn.com/nba/player/_/id/4066508/charlie-brown-jr\" tabindex=\"0\">Charlie Brown Jr.</a><span class=\"pl2 n10\">4</span></div>, <div class=\"inline\" style=\"min-width:40px\">SG</div>, <div class=\"inline\" style=\"min-width:40px\">23</div>, <div class=\"inline\" style=\"min-width:50px\">6' 6\"</div>, <div class=\"inline\" style=\"min-width:70px\">199 lbs</div>, <div class=\"inline\">Saint Joseph's</div>, <div class=\"inline\">--</div>, <div class=\"inline Table__TD--headshot\" style=\"min-width:40px\"><a class=\"AnchorLink\" href=\"https://www.espn.com/nba/player/_/id/3102529/clint-capela\" tabindex=\"0\"><div class=\"headshot inline-block relative TableHeadshot roster-headshot headshot--sm athlete silo\"><figure class=\"Image aspect-ratio--parent\"><div class=\"RatioFrame aspect-ratio--1x1\"></div><div class=\"Image__Wrapper aspect-ratio--child\"><img alt=\"https://a.espncdn.com/i/headshots/nba/players/full/3102529.png\" class=\"\" data-mptype=\"image\" src=\"data:image/gif;base64,R0lGODlhAQABAIAAAAAAAP///yH5BAEAAAAALAAAAAABAAEAAAIBRAA7\" title=\"Clint Capela\"/></div></figure></div></a></div>, <div class=\"inline\" style=\"min-width:140px\"><a class=\"AnchorLink\" href=\"https://www.espn.com/nba/player/_/id/3102529/clint-capela\" tabindex=\"0\">Clint Capela</a><span class=\"pl2 n10\">15</span></div>, <div class=\"inline\" style=\"min-width:40px\">C</div>, <div class=\"inline\" style=\"min-width:40px\">26</div>, <div class=\"inline\" style=\"min-width:50px\">6' 10\"</div>, <div class=\"inline\" style=\"min-width:70px\">240 lbs</div>, <div class=\"inline\">--</div>, <div class=\"inline\">$14,896,552</div>, <div class=\"inline Table__TD--headshot\" style=\"min-width:40px\"><a class=\"AnchorLink\" href=\"https://www.espn.com/nba/player/_/id/3908845/john-collins\" tabindex=\"0\"><div class=\"headshot inline-block relative TableHeadshot roster-headshot headshot--sm athlete silo\"><figure class=\"Image aspect-ratio--parent\"><div class=\"RatioFrame aspect-ratio--1x1\"></div><div class=\"Image__Wrapper aspect-ratio--child\"><img alt=\"https://a.espncdn.com/i/headshots/nba/players/full/3908845.png\" class=\"\" data-mptype=\"image\" src=\"data:image/gif;base64,R0lGODlhAQABAIAAAAAAAP///yH5BAEAAAAALAAAAAABAAEAAAIBRAA7\" title=\"John Collins\"/></div></figure></div></a></div>, <div class=\"inline\" style=\"min-width:140px\"><a class=\"AnchorLink\" href=\"https://www.espn.com/nba/player/_/id/3908845/john-collins\" tabindex=\"0\">John Collins</a><span class=\"pl2 n10\">20</span></div>, <div class=\"inline\" style=\"min-width:40px\">PF</div>, <div class=\"inline\" style=\"min-width:40px\">23</div>, <div class=\"inline\" style=\"min-width:50px\">6' 9\"</div>, <div class=\"inline\" style=\"min-width:70px\">235 lbs</div>, <div class=\"inline\">Wake Forest</div>, <div class=\"inline\">$2,686,560</div>, <div class=\"inline Table__TD--headshot\" style=\"min-width:40px\"><a class=\"AnchorLink\" href=\"https://www.espn.com/nba/player/_/id/2580913/dewayne-dedmon\" tabindex=\"0\"><div class=\"headshot inline-block relative TableHeadshot roster-headshot headshot--sm athlete silo\"><figure class=\"Image aspect-ratio--parent\"><div class=\"RatioFrame aspect-ratio--1x1\"></div><div class=\"Image__Wrapper aspect-ratio--child\"><img alt=\"https://a.espncdn.com/i/headshots/nba/players/full/2580913.png\" class=\"\" data-mptype=\"image\" src=\"data:image/gif;base64,R0lGODlhAQABAIAAAAAAAP///yH5BAEAAAAALAAAAAABAAEAAAIBRAA7\" title=\"Dewayne Dedmon\"/></div></figure></div></a></div>, <div class=\"inline\" style=\"min-width:140px\"><a class=\"AnchorLink\" href=\"https://www.espn.com/nba/player/_/id/2580913/dewayne-dedmon\" tabindex=\"0\">Dewayne Dedmon</a><span class=\"pl2 n10\">14</span></div>, <div class=\"inline\" style=\"min-width:40px\">C</div>, <div class=\"inline\" style=\"min-width:40px\">31</div>, <div class=\"inline\" style=\"min-width:50px\">7' 0\"</div>, <div class=\"inline\" style=\"min-width:70px\">245 lbs</div>, <div class=\"inline\">USC</div>, <div class=\"inline\">$13,333,333</div>, <div class=\"inline Table__TD--headshot\" style=\"min-width:40px\"><a class=\"AnchorLink\" href=\"https://www.espn.com/nba/player/_/id/4277952/bruno-fernando\" tabindex=\"0\"><div class=\"headshot inline-block relative TableHeadshot roster-headshot headshot--sm athlete silo\"><figure class=\"Image aspect-ratio--parent\"><div class=\"RatioFrame aspect-ratio--1x1\"></div><div class=\"Image__Wrapper aspect-ratio--child\"><img alt=\"https://a.espncdn.com/i/headshots/nba/players/full/4277952.png\" class=\"\" data-mptype=\"image\" src=\"data:image/gif;base64,R0lGODlhAQABAIAAAAAAAP///yH5BAEAAAAALAAAAAABAAEAAAIBRAA7\" title=\"Bruno Fernando\"/></div></figure></div></a></div>, <div class=\"inline\" style=\"min-width:140px\"><a class=\"AnchorLink\" href=\"https://www.espn.com/nba/player/_/id/4277952/bruno-fernando\" tabindex=\"0\">Bruno Fernando</a><span class=\"pl2 n10\">24</span></div>, <div class=\"inline\" style=\"min-width:40px\">C</div>, <div class=\"inline\" style=\"min-width:40px\">22</div>, <div class=\"inline\" style=\"min-width:50px\">6' 9\"</div>, <div class=\"inline\" style=\"min-width:70px\">240 lbs</div>, <div class=\"inline\">Maryland</div>, <div class=\"inline\">$1,400,000</div>, <div class=\"inline Table__TD--headshot\" style=\"min-width:40px\"><a class=\"AnchorLink\" href=\"https://www.espn.com/nba/player/_/id/3057198/brandon-goodwin\" tabindex=\"0\"><div class=\"headshot inline-block relative TableHeadshot roster-headshot headshot--sm athlete silo\"><figure class=\"Image aspect-ratio--parent\"><div class=\"RatioFrame aspect-ratio--1x1\"></div><div class=\"Image__Wrapper aspect-ratio--child\"><img alt=\"https://a.espncdn.com/i/headshots/nba/players/full/3057198.png\" class=\"\" data-mptype=\"image\" src=\"data:image/gif;base64,R0lGODlhAQABAIAAAAAAAP///yH5BAEAAAAALAAAAAABAAEAAAIBRAA7\" title=\"Brandon Goodwin\"/></div></figure></div></a></div>, <div class=\"inline\" style=\"min-width:140px\"><a class=\"AnchorLink\" href=\"https://www.espn.com/nba/player/_/id/3057198/brandon-goodwin\" tabindex=\"0\">Brandon Goodwin</a><span class=\"pl2 n10\">0</span></div>, <div class=\"inline\" style=\"min-width:40px\">PG</div>, <div class=\"inline\" style=\"min-width:40px\">25</div>, <div class=\"inline\" style=\"min-width:50px\">6' 0\"</div>, <div class=\"inline\" style=\"min-width:70px\">180 lbs</div>, <div class=\"inline\">Florida Gulf Coast</div>, <div class=\"inline\">$522,738</div>, <div class=\"inline Table__TD--headshot\" style=\"min-width:40px\"><a class=\"AnchorLink\" href=\"https://www.espn.com/nba/player/_/id/2595231/treveon-graham\" tabindex=\"0\"><div class=\"headshot inline-block relative TableHeadshot roster-headshot headshot--sm athlete silo\"><figure class=\"Image aspect-ratio--parent\"><div class=\"RatioFrame aspect-ratio--1x1\"></div><div class=\"Image__Wrapper aspect-ratio--child\"><img alt=\"https://a.espncdn.com/i/headshots/nba/players/full/2595231.png\" class=\"\" data-mptype=\"image\" src=\"data:image/gif;base64,R0lGODlhAQABAIAAAAAAAP///yH5BAEAAAAALAAAAAABAAEAAAIBRAA7\" title=\"Treveon Graham\"/></div></figure></div></a></div>, <div class=\"inline\" style=\"min-width:140px\"><a class=\"AnchorLink\" href=\"https://www.espn.com/nba/player/_/id/2595231/treveon-graham\" tabindex=\"0\">Treveon Graham</a><span class=\"pl2 n10\">2</span></div>, <div class=\"inline\" style=\"min-width:40px\">SG</div>, <div class=\"inline\" style=\"min-width:40px\">26</div>, <div class=\"inline\" style=\"min-width:50px\">6' 5\"</div>, <div class=\"inline\" style=\"min-width:70px\">219 lbs</div>, <div class=\"inline\">Virginia Commonwealth</div>, <div class=\"inline\">$1,645,357</div>, <div class=\"inline Table__TD--headshot\" style=\"min-width:40px\"><a class=\"AnchorLink\" href=\"https://www.espn.com/nba/player/_/id/4066372/kevin-huerter\" tabindex=\"0\"><div class=\"headshot inline-block relative TableHeadshot roster-headshot headshot--sm athlete silo\"><figure class=\"Image aspect-ratio--parent\"><div class=\"RatioFrame aspect-ratio--1x1\"></div><div class=\"Image__Wrapper aspect-ratio--child\"><img alt=\"https://a.espncdn.com/i/headshots/nba/players/full/4066372.png\" class=\"\" data-mptype=\"image\" src=\"data:image/gif;base64,R0lGODlhAQABAIAAAAAAAP///yH5BAEAAAAALAAAAAABAAEAAAIBRAA7\" title=\"Kevin Huerter\"/></div></figure></div></a></div>, <div class=\"inline\" style=\"min-width:140px\"><a class=\"AnchorLink\" href=\"https://www.espn.com/nba/player/_/id/4066372/kevin-huerter\" tabindex=\"0\">Kevin Huerter</a><span class=\"pl2 n10\">3</span></div>, <div class=\"inline\" style=\"min-width:40px\">SG</div>, <div class=\"inline\" style=\"min-width:40px\">22</div>, <div class=\"inline\" style=\"min-width:50px\">6' 7\"</div>, <div class=\"inline\" style=\"min-width:70px\">190 lbs</div>, <div class=\"inline\">Maryland</div>, <div class=\"inline\">$2,636,280</div>, <div class=\"inline Table__TD--headshot\" style=\"min-width:40px\"><a class=\"AnchorLink\" href=\"https://www.espn.com/nba/player/_/id/4065732/deandre-hunter\" tabindex=\"0\"><div class=\"headshot inline-block relative TableHeadshot roster-headshot headshot--sm athlete silo\"><figure class=\"Image aspect-ratio--parent\"><div class=\"RatioFrame aspect-ratio--1x1\"></div><div class=\"Image__Wrapper aspect-ratio--child\"><img alt=\"https://a.espncdn.com/i/headshots/nba/players/full/4065732.png\" class=\"\" data-mptype=\"image\" src=\"data:image/gif;base64,R0lGODlhAQABAIAAAAAAAP///yH5BAEAAAAALAAAAAABAAEAAAIBRAA7\" title=\"De'Andre Hunter\"/></div></figure></div></a></div>, <div class=\"inline\" style=\"min-width:140px\"><a class=\"AnchorLink\" href=\"https://www.espn.com/nba/player/_/id/4065732/deandre-hunter\" tabindex=\"0\">De'Andre Hunter</a><span class=\"pl2 n10\">12</span></div>, <div class=\"inline\" style=\"min-width:40px\">SF</div>, <div class=\"inline\" style=\"min-width:40px\">22</div>, <div class=\"inline\" style=\"min-width:50px\">6' 7\"</div>, <div class=\"inline\" style=\"min-width:70px\">225 lbs</div>, <div class=\"inline\">Virginia</div>, <div class=\"inline\">$7,068,360</div>, <div class=\"inline Table__TD--headshot\" style=\"min-width:40px\"><a class=\"AnchorLink\" href=\"https://www.espn.com/nba/player/_/id/3064559/damian-jones\" tabindex=\"0\"><div class=\"headshot inline-block relative TableHeadshot roster-headshot headshot--sm athlete silo\"><figure class=\"Image aspect-ratio--parent\"><div class=\"RatioFrame aspect-ratio--1x1\"></div><div class=\"Image__Wrapper aspect-ratio--child\"><img alt=\"https://a.espncdn.com/i/headshots/nba/players/full/3064559.png\" class=\"\" data-mptype=\"image\" src=\"data:image/gif;base64,R0lGODlhAQABAIAAAAAAAP///yH5BAEAAAAALAAAAAABAAEAAAIBRAA7\" title=\"Damian Jones\"/></div></figure></div></a></div>, <div class=\"inline\" style=\"min-width:140px\"><a class=\"AnchorLink\" href=\"https://www.espn.com/nba/player/_/id/3064559/damian-jones\" tabindex=\"0\">Damian Jones</a><span class=\"pl2 n10\">30</span></div>, <div class=\"inline\" style=\"min-width:40px\">C</div>, <div class=\"inline\" style=\"min-width:40px\">25</div>, <div class=\"inline\" style=\"min-width:50px\">6' 11\"</div>, <div class=\"inline\" style=\"min-width:70px\">245 lbs</div>, <div class=\"inline\">Vanderbilt</div>, <div class=\"inline\">$2,305,057</div>, <div class=\"inline Table__TD--headshot\" style=\"min-width:40px\"><a class=\"AnchorLink\" href=\"https://www.espn.com/nba/player/_/id/3936296/skal-labissiere\" tabindex=\"0\"><div class=\"headshot inline-block relative TableHeadshot roster-headshot headshot--sm athlete silo\"><figure class=\"Image aspect-ratio--parent\"><div class=\"RatioFrame aspect-ratio--1x1\"></div><div class=\"Image__Wrapper aspect-ratio--child\"><img alt=\"https://a.espncdn.com/i/headshots/nba/players/full/3936296.png\" class=\"\" data-mptype=\"image\" src=\"data:image/gif;base64,R0lGODlhAQABAIAAAAAAAP///yH5BAEAAAAALAAAAAABAAEAAAIBRAA7\" title=\"Skal Labissiere\"/></div></figure></div></a></div>, <div class=\"inline\" style=\"min-width:140px\"><a class=\"AnchorLink\" href=\"https://www.espn.com/nba/player/_/id/3936296/skal-labissiere\" tabindex=\"0\">Skal Labissiere</a><span class=\"pl2 n10\">7</span></div>, <div class=\"inline\" style=\"min-width:40px\">PF</div>, <div class=\"inline\" style=\"min-width:40px\">24</div>, <div class=\"inline\" style=\"min-width:50px\">6' 10\"</div>, <div class=\"inline\" style=\"min-width:70px\">235 lbs</div>, <div class=\"inline\">Kentucky</div>, <div class=\"inline\">$2,338,847</div>, <div class=\"inline Table__TD--headshot\" style=\"min-width:40px\"><a class=\"AnchorLink\" href=\"https://www.espn.com/nba/player/_/id/4395627/cam-reddish\" tabindex=\"0\"><div class=\"headshot inline-block relative TableHeadshot roster-headshot headshot--sm athlete silo\"><figure class=\"Image aspect-ratio--parent\"><div class=\"RatioFrame aspect-ratio--1x1\"></div><div class=\"Image__Wrapper aspect-ratio--child\"><img alt=\"https://a.espncdn.com/i/headshots/nba/players/full/4395627.png\" class=\"\" data-mptype=\"image\" src=\"data:image/gif;base64,R0lGODlhAQABAIAAAAAAAP///yH5BAEAAAAALAAAAAABAAEAAAIBRAA7\" title=\"Cam Reddish\"/></div></figure></div></a></div>, <div class=\"inline\" style=\"min-width:140px\"><a class=\"AnchorLink\" href=\"https://www.espn.com/nba/player/_/id/4395627/cam-reddish\" tabindex=\"0\">Cam Reddish</a><span class=\"pl2 n10\">22</span></div>, <div class=\"inline\" style=\"min-width:40px\">SG</div>, <div class=\"inline\" style=\"min-width:40px\">21</div>, <div class=\"inline\" style=\"min-width:50px\">6' 8\"</div>, <div class=\"inline\" style=\"min-width:70px\">218 lbs</div>, <div class=\"inline\">Duke</div>, <div class=\"inline\">$4,245,720</div>, <div class=\"inline Table__TD--headshot\" style=\"min-width:40px\"><a class=\"AnchorLink\" href=\"https://www.espn.com/nba/player/_/id/4015/jeff-teague\" tabindex=\"0\"><div class=\"headshot inline-block relative TableHeadshot roster-headshot headshot--sm athlete silo\"><figure class=\"Image aspect-ratio--parent\"><div class=\"RatioFrame aspect-ratio--1x1\"></div><div class=\"Image__Wrapper aspect-ratio--child\"><img alt=\"https://a.espncdn.com/i/headshots/nba/players/full/4015.png\" class=\"\" data-mptype=\"image\" src=\"data:image/gif;base64,R0lGODlhAQABAIAAAAAAAP///yH5BAEAAAAALAAAAAABAAEAAAIBRAA7\" title=\"Jeff Teague\"/></div></figure></div></a></div>, <div class=\"inline\" style=\"min-width:140px\"><a class=\"AnchorLink\" href=\"https://www.espn.com/nba/player/_/id/4015/jeff-teague\" tabindex=\"0\">Jeff Teague</a><span class=\"pl2 n10\">00</span></div>, <div class=\"inline\" style=\"min-width:40px\">PG</div>, <div class=\"inline\" style=\"min-width:40px\">32</div>, <div class=\"inline\" style=\"min-width:50px\">6' 3\"</div>, <div class=\"inline\" style=\"min-width:70px\">195 lbs</div>, <div class=\"inline\">Wake Forest</div>, <div class=\"inline\">$19,000,000</div>, <div class=\"inline Table__TD--headshot\" style=\"min-width:40px\"><a class=\"AnchorLink\" href=\"https://www.espn.com/nba/player/_/id/4277905/trae-young\" tabindex=\"0\"><div class=\"headshot inline-block relative TableHeadshot roster-headshot headshot--sm athlete silo\"><figure class=\"Image aspect-ratio--parent\"><div class=\"RatioFrame aspect-ratio--1x1\"></div><div class=\"Image__Wrapper aspect-ratio--child\"><img alt=\"https://a.espncdn.com/i/headshots/nba/players/full/4277905.png\" class=\"\" data-mptype=\"image\" src=\"data:image/gif;base64,R0lGODlhAQABAIAAAAAAAP///yH5BAEAAAAALAAAAAABAAEAAAIBRAA7\" title=\"Trae Young\"/></div></figure></div></a></div>, <div class=\"inline\" style=\"min-width:140px\"><a class=\"AnchorLink\" href=\"https://www.espn.com/nba/player/_/id/4277905/trae-young\" tabindex=\"0\">Trae Young</a><span class=\"pl2 n10\">11</span></div>, <div class=\"inline\" style=\"min-width:40px\">PG</div>, <div class=\"inline\" style=\"min-width:40px\">22</div>, <div class=\"inline\" style=\"min-width:50px\">6' 1\"</div>, <div class=\"inline\" style=\"min-width:70px\">180 lbs</div>, <div class=\"inline\">Oklahoma</div>, <div class=\"inline\">$6,273,000</div>]\n"
     ]
    }
   ],
   "source": [
    "# print 'data' to console\n",
    "print(data)"
   ]
  },
  {
   "cell_type": "code",
   "execution_count": 113,
   "metadata": {},
   "outputs": [
    {
     "name": "stdout",
     "output_type": "stream",
     "text": [
      "\n",
      "DeAndre' Bembry95\n",
      "SG\n",
      "26\n",
      "6' 5\"\n",
      "210 lbs\n",
      "Saint Joseph's\n",
      "$2,603,982\n",
      "\n",
      "Charlie Brown Jr.4\n",
      "SG\n",
      "23\n",
      "6' 6\"\n",
      "199 lbs\n",
      "Saint Joseph's\n",
      "--\n",
      "\n",
      "Clint Capela15\n",
      "C\n",
      "26\n",
      "6' 10\"\n",
      "240 lbs\n",
      "--\n",
      "$14,896,552\n",
      "\n",
      "John Collins20\n",
      "PF\n",
      "23\n",
      "6' 9\"\n",
      "235 lbs\n",
      "Wake Forest\n",
      "$2,686,560\n",
      "\n",
      "Dewayne Dedmon14\n",
      "C\n",
      "31\n",
      "7' 0\"\n",
      "245 lbs\n",
      "USC\n",
      "$13,333,333\n",
      "\n",
      "Bruno Fernando24\n",
      "C\n",
      "22\n",
      "6' 9\"\n",
      "240 lbs\n",
      "Maryland\n",
      "$1,400,000\n",
      "\n",
      "Brandon Goodwin0\n",
      "PG\n",
      "25\n",
      "6' 0\"\n",
      "180 lbs\n",
      "Florida Gulf Coast\n",
      "$522,738\n",
      "\n",
      "Treveon Graham2\n",
      "SG\n",
      "26\n",
      "6' 5\"\n",
      "219 lbs\n",
      "Virginia Commonwealth\n",
      "$1,645,357\n",
      "\n",
      "Kevin Huerter3\n",
      "SG\n",
      "22\n",
      "6' 7\"\n",
      "190 lbs\n",
      "Maryland\n",
      "$2,636,280\n",
      "\n",
      "De'Andre Hunter12\n",
      "SF\n",
      "22\n",
      "6' 7\"\n",
      "225 lbs\n",
      "Virginia\n",
      "$7,068,360\n",
      "\n",
      "Damian Jones30\n",
      "C\n",
      "25\n",
      "6' 11\"\n",
      "245 lbs\n",
      "Vanderbilt\n",
      "$2,305,057\n",
      "\n",
      "Skal Labissiere7\n",
      "PF\n",
      "24\n",
      "6' 10\"\n",
      "235 lbs\n",
      "Kentucky\n",
      "$2,338,847\n",
      "\n",
      "Cam Reddish22\n",
      "SG\n",
      "21\n",
      "6' 8\"\n",
      "218 lbs\n",
      "Duke\n",
      "$4,245,720\n",
      "\n",
      "Jeff Teague00\n",
      "PG\n",
      "32\n",
      "6' 3\"\n",
      "195 lbs\n",
      "Wake Forest\n",
      "$19,000,000\n",
      "\n",
      "Trae Young11\n",
      "PG\n",
      "22\n",
      "6' 1\"\n",
      "180 lbs\n",
      "Oklahoma\n",
      "$6,273,000\n",
      "['', \"DeAndre' Bembry95\", 'SG', '26', '6\\' 5\"', '210 lbs', \"Saint Joseph's\", '$2,603,982', '', 'Charlie Brown Jr.4', 'SG', '23', '6\\' 6\"', '199 lbs', \"Saint Joseph's\", '--', '', 'Clint Capela15', 'C', '26', '6\\' 10\"', '240 lbs', '--', '$14,896,552', '', 'John Collins20', 'PF', '23', '6\\' 9\"', '235 lbs', 'Wake Forest', '$2,686,560', '', 'Dewayne Dedmon14', 'C', '31', '7\\' 0\"', '245 lbs', 'USC', '$13,333,333', '', 'Bruno Fernando24', 'C', '22', '6\\' 9\"', '240 lbs', 'Maryland', '$1,400,000', '', 'Brandon Goodwin0', 'PG', '25', '6\\' 0\"', '180 lbs', 'Florida Gulf Coast', '$522,738', '', 'Treveon Graham2', 'SG', '26', '6\\' 5\"', '219 lbs', 'Virginia Commonwealth', '$1,645,357', '', 'Kevin Huerter3', 'SG', '22', '6\\' 7\"', '190 lbs', 'Maryland', '$2,636,280', '', \"De'Andre Hunter12\", 'SF', '22', '6\\' 7\"', '225 lbs', 'Virginia', '$7,068,360', '', 'Damian Jones30', 'C', '25', '6\\' 11\"', '245 lbs', 'Vanderbilt', '$2,305,057', '', 'Skal Labissiere7', 'PF', '24', '6\\' 10\"', '235 lbs', 'Kentucky', '$2,338,847', '', 'Cam Reddish22', 'SG', '21', '6\\' 8\"', '218 lbs', 'Duke', '$4,245,720', '', 'Jeff Teague00', 'PG', '32', '6\\' 3\"', '195 lbs', 'Wake Forest', '$19,000,000', '', 'Trae Young11', 'PG', '22', '6\\' 1\"', '180 lbs', 'Oklahoma', '$6,273,000']\n"
     ]
    }
   ],
   "source": [
    "datos = []\n",
    "for elemento in data:\n",
    "    TAG_RE = re.compile(r'<[^>]+>')\n",
    "    text = TAG_RE.sub('', str(elemento))\n",
    "    datos.append(text)\n",
    "    print (text)\n",
    "\n",
    "print (datos)"
   ]
  },
  {
   "cell_type": "code",
   "execution_count": 101,
   "metadata": {},
   "outputs": [],
   "source": [
    "f = open('nba_2020.csv','a') # open new file, make sure path to your data file is correct\n",
    "\n",
    "p = 0 # initial place in array\n",
    "l = len(data)-1 # length of array minus one\n"
   ]
  },
  {
   "cell_type": "code",
   "execution_count": 65,
   "metadata": {},
   "outputs": [
    {
     "data": {
      "text/plain": [
       "26"
      ]
     },
     "execution_count": 65,
     "metadata": {},
     "output_type": "execute_result"
    }
   ],
   "source": [
    "\n",
    "f.write(\"name,pos,age,ht,wt,college,salary\\n\") #write headers\n"
   ]
  },
  {
   "cell_type": "code",
   "execution_count": 67,
   "metadata": {},
   "outputs": [
    {
     "ename": "TypeError",
     "evalue": "write() argument must be str, not Tag",
     "output_type": "error",
     "traceback": [
      "\u001b[1;31m---------------------------------------------------------------------------\u001b[0m",
      "\u001b[1;31mTypeError\u001b[0m                                 Traceback (most recent call last)",
      "\u001b[1;32m<ipython-input-67-06f5ed7eaca8>\u001b[0m in \u001b[0;36m<module>\u001b[1;34m\u001b[0m\n\u001b[0;32m      1\u001b[0m \u001b[1;32mwhile\u001b[0m \u001b[0mp\u001b[0m \u001b[1;33m<\u001b[0m \u001b[0ml\u001b[0m\u001b[1;33m:\u001b[0m \u001b[1;31m# while place is less than length\u001b[0m\u001b[1;33m\u001b[0m\u001b[1;33m\u001b[0m\u001b[0m\n\u001b[1;32m----> 2\u001b[1;33m     \u001b[0mf\u001b[0m\u001b[1;33m.\u001b[0m\u001b[0mwrite\u001b[0m\u001b[1;33m(\u001b[0m\u001b[0mdata\u001b[0m\u001b[1;33m[\u001b[0m\u001b[0mp\u001b[0m\u001b[1;33m]\u001b[0m\u001b[1;33m)\u001b[0m \u001b[1;31m# write county and add comma\u001b[0m\u001b[1;33m\u001b[0m\u001b[1;33m\u001b[0m\u001b[0m\n\u001b[0m\u001b[0;32m      3\u001b[0m     \u001b[1;31m#p = p + 1 # increment\u001b[0m\u001b[1;33m\u001b[0m\u001b[1;33m\u001b[0m\u001b[1;33m\u001b[0m\u001b[0m\n\u001b[0;32m      4\u001b[0m     \u001b[1;31m#f.write(data[p].string + \", \") # write FIPS and add comma\u001b[0m\u001b[1;33m\u001b[0m\u001b[1;33m\u001b[0m\u001b[1;33m\u001b[0m\u001b[0m\n\u001b[0;32m      5\u001b[0m     \u001b[1;31m#p = p + 1 # increment\u001b[0m\u001b[1;33m\u001b[0m\u001b[1;33m\u001b[0m\u001b[1;33m\u001b[0m\u001b[0m\n",
      "\u001b[1;31mTypeError\u001b[0m: write() argument must be str, not Tag"
     ]
    }
   ],
   "source": [
    "while p < l: # while place is less than length\n",
    "    f.write(data[p].string + \", \") # write county and add comma \n",
    "    #p = p + 1 # increment\n",
    "    #f.write(data[p].string + \", \") # write FIPS and add comma\n",
    "    #p = p + 1 # increment"
   ]
  },
  {
   "cell_type": "code",
   "execution_count": 56,
   "metadata": {},
   "outputs": [],
   "source": [
    "    \n",
    "f.close() # close file"
   ]
  },
  {
   "cell_type": "code",
   "execution_count": null,
   "metadata": {},
   "outputs": [],
   "source": []
  }
 ],
 "metadata": {
  "kernelspec": {
   "display_name": "Python 3",
   "language": "python",
   "name": "python3"
  },
  "language_info": {
   "codemirror_mode": {
    "name": "ipython",
    "version": 3
   },
   "file_extension": ".py",
   "mimetype": "text/x-python",
   "name": "python",
   "nbconvert_exporter": "python",
   "pygments_lexer": "ipython3",
   "version": "3.8.3"
  }
 },
 "nbformat": 4,
 "nbformat_minor": 2
}
