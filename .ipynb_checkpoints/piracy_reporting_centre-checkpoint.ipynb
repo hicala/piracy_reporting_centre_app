{
 "cells": [
  {
   "cell_type": "code",
   "execution_count": 89,
   "metadata": {},
   "outputs": [],
   "source": [
    "# If you don't have Beautiful Soup, install with 'conda install beautifulsoup' in terminal\n",
    "# Python requires us to explicitly load the libraries that we want to use:\n",
    "import requests\n",
    "import bs4\n",
    "import re"
   ]
  },
  {
   "cell_type": "code",
   "execution_count": 90,
   "metadata": {},
   "outputs": [],
   "source": [
    "# Load a webpage into python so that we can parse it and manipulate it.\n",
    "URL = 'https://www.icc-ccs.org/index.php/piracy-reporting-centre/live-piracy-report'"
   ]
  },
  {
   "cell_type": "code",
   "execution_count": 91,
   "metadata": {},
   "outputs": [],
   "source": [
    "# Control of Connection\n",
    "# We just turned the website code into a Python object. \n",
    "response = requests.get(URL)\n",
    "soup = bs4.BeautifulSoup(response.text, \"html.parser\")"
   ]
  },
  {
   "cell_type": "code",
   "execution_count": 92,
   "metadata": {},
   "outputs": [],
   "source": [
    "# find all the tags with class city or number\n",
    "data = soup.findAll(attrs={'class':['jos_fabrik_icc_ccs_piracymap2016___narrations']})"
   ]
  },
  {
   "cell_type": "code",
   "execution_count": 93,
   "metadata": {},
   "outputs": [
    {
     "data": {
      "text/plain": [
       "32"
      ]
     },
     "execution_count": 93,
     "metadata": {},
     "output_type": "execute_result"
    }
   ],
   "source": [
    "f = open('piracy_reporting_centre.csv','w') # open new file, make sure path to your data file is correct\n",
    "f.write(\"Date\\tTime\\tPosition\\tArea\\tCountry\" + \"\\n\") # write headers"
   ]
  },
  {
   "cell_type": "code",
   "execution_count": 94,
   "metadata": {},
   "outputs": [],
   "source": [
    "# Clear HTML tag and insert text in array\n",
    "results = []\n",
    "for element in data:\n",
    "     TAG_RE = re.compile(r'<[^>]+>')\n",
    "     text = TAG_RE.sub('', str(element))\n",
    "     results.append(text)"
   ]
  },
  {
   "cell_type": "code",
   "execution_count": 5,
   "metadata": {},
   "outputs": [],
   "source": [
    "# Clear \\r \\n \\t to prepare string variable to clear Narrations: and insert text in array\n",
    "results_patten = []\n",
    "results_explode = [] \n",
    "results_2 = []\n",
    "for element in results:\n",
    "     item = ''\n",
    "     item = str(element)\n",
    "     item = item.replace('\\r', '').replace('\\n', '').replace('\\t', '')\n",
    "     if item != 'Narrations:':\n",
    "          results_explode = item.split(\".\")\n",
    "          i = 0 \n",
    "          for result in results_explode:\n",
    "                i = i + 1\n",
    "                if i <= 5: results_2.append(result)"
   ]
  },
  {
   "cell_type": "code",
   "execution_count": 95,
   "metadata": {},
   "outputs": [],
   "source": [
    "# Prepare string variables Date, Time, Position, Area and Country, replace characters to insert character | and insert text in array\n",
    "i = 0\n",
    "results = []\n",
    "for element in results_2:\n",
    "    i = i + 1\n",
    "    if i == 1: \n",
    "        data1 = str(element)\n",
    "    if i == 2: \n",
    "        data2 = str(data1) + '.' + str(element)\n",
    "    if i == 3: \n",
    "        date = data2 + '.' + str(element)\n",
    "    if i == 4: \n",
    "        position = str(element)\n",
    "    if i == 5: \n",
    "        country = str(element)\n",
    "        item = date.replace(': Posn : ', '|').replace(': Posn: ', '|').replace(': ', '|') + '.' + position.replace(' – ', '|') + '.' + country.replace('E, ', 'E|').replace('W, ', 'W|')\n",
    "        item = item.replace('N – ', 'N|').replace('W, ', 'W|')\n",
    "        results.append(item)\n",
    "        i = 0"
   ]
  },
  {
   "cell_type": "code",
   "execution_count": 96,
   "metadata": {},
   "outputs": [],
   "source": [
    "# Split to elements to array results for character | and Write to file items Date, Time, Position, Area and Country\n",
    "for element in results:\n",
    "       item = element.split(\"|\")\n",
    "       i = 0\n",
    "       for element1 in item:\n",
    "            i = i + 1\n",
    "            if i == 1: \n",
    "                date = str(element1)\n",
    "                f.write(date + \"\\t\") # fecha date and add tabulator\n",
    "            if i == 2: \n",
    "                time = str(element1)\n",
    "                f.write(time + \"\\t\") # fecha time and add tabulator\n",
    "            if i == 3: \n",
    "                position = str(element1)\n",
    "                f.write(position + \"\\t\") # fecha position and add tabulator\n",
    "            if i == 4: \n",
    "                area = str(element1)\n",
    "                f.write(area + \"\\t\") # fecha area and add tabulator\n",
    "            if i == 5: \n",
    "                country = str(element1)\n",
    "                f.write(country + \"\\t\\n\") # fecha country and add tabulator                "
   ]
  },
  {
   "cell_type": "code",
   "execution_count": 97,
   "metadata": {},
   "outputs": [],
   "source": [
    "# Close file\n",
    "f.close() # close file"
   ]
  },
  {
   "cell_type": "code",
   "execution_count": null,
   "metadata": {},
   "outputs": [],
   "source": []
  }
 ],
 "metadata": {
  "kernelspec": {
   "display_name": "Python 3",
   "language": "python",
   "name": "python3"
  },
  "language_info": {
   "codemirror_mode": {
    "name": "ipython",
    "version": 3
   },
   "file_extension": ".py",
   "mimetype": "text/x-python",
   "name": "python",
   "nbconvert_exporter": "python",
   "pygments_lexer": "ipython3",
   "version": "3.8.3"
  }
 },
 "nbformat": 4,
 "nbformat_minor": 2
}
